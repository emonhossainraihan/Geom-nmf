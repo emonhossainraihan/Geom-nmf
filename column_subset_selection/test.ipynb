{
 "cells": [
  {
   "cell_type": "code",
   "execution_count": 1,
   "metadata": {},
   "outputs": [],
   "source": [
    "import numpy as np\n",
    "from scipy.linalg import svd\n",
    "\n",
    "def leverage_scores_sampling(A, k):\n",
    "    # compute the SVD of A\n",
    "    U, s, Vt = svd(A, full_matrices=False)\n",
    "    # compute the leverage scores\n",
    "    leverage_scores = np.sum(U**2, axis=0)\n",
    "    # normalize the scores\n",
    "    p = leverage_scores / np.sum(leverage_scores)\n",
    "    return p"
   ]
  },
  {
   "cell_type": "code",
   "execution_count": 2,
   "metadata": {},
   "outputs": [],
   "source": [
    "def leverage_scores(A):\n",
    "    # compute the pseudoinverse of A^T A\n",
    "    A_tA_inv = np.linalg.pinv(A.T @ A)\n",
    "    # compute the hat matrix\n",
    "    H = A @ A_tA_inv @ A.T\n",
    "    # extract the diagonal elements of H\n",
    "    scores = np.diag(H)\n",
    "    return scores"
   ]
  },
  {
   "cell_type": "code",
   "execution_count": 6,
   "metadata": {},
   "outputs": [],
   "source": [
    "A = np.random.randn(100, 10)\n",
    "U, s, Vt = svd(A, full_matrices=False)"
   ]
  },
  {
   "cell_type": "code",
   "execution_count": 14,
   "metadata": {},
   "outputs": [
    {
     "data": {
      "text/plain": [
       "[0.11454040931473884,\n",
       " 0.03521105469357307,\n",
       " 0.11730614653093195,\n",
       " 0.03473617786087899,\n",
       " 0.11281481495929219,\n",
       " 0.1044929313420797,\n",
       " 0.07883556696367161,\n",
       " 0.07299001407642833,\n",
       " 0.08043665525660648,\n",
       " 0.10845672888893837]"
      ]
     },
     "execution_count": 14,
     "metadata": {},
     "output_type": "execute_result"
    }
   ],
   "source": [
    "leverage_scores = [ np.sum(U[i,:]**2) for i in range(10) ]\n",
    "leverage_scores"
   ]
  },
  {
   "cell_type": "code",
   "execution_count": 17,
   "metadata": {},
   "outputs": [
    {
     "data": {
      "text/plain": [
       "(100, 100)"
      ]
     },
     "execution_count": 17,
     "metadata": {},
     "output_type": "execute_result"
    }
   ],
   "source": [
    "A_tA_inv = np.linalg.pinv(A.T @ A)\n",
    "H = A @ A_tA_inv @ A.T"
   ]
  },
  {
   "cell_type": "code",
   "execution_count": 20,
   "metadata": {},
   "outputs": [
    {
     "data": {
      "text/plain": [
       "[0.11454040931473893,\n",
       " 0.03521105469357309,\n",
       " 0.11730614653093191,\n",
       " 0.034736177860878924,\n",
       " 0.11281481495929216,\n",
       " 0.10449293134207979,\n",
       " 0.07883556696367168,\n",
       " 0.07299001407642834,\n",
       " 0.08043665525660655,\n",
       " 0.10845672888893841]"
      ]
     },
     "execution_count": 20,
     "metadata": {},
     "output_type": "execute_result"
    }
   ],
   "source": [
    "# vetorize the following operator for computing the leverage scores\n",
    "leverage_scores = [ A[i,:] @ A_tA_inv @ A[i,:].T for i in range(10) ]\n",
    "leverage_scores"
   ]
  },
  {
   "attachments": {},
   "cell_type": "markdown",
   "metadata": {},
   "source": [
    "## Finding Geometry\n",
    "\n",
    "### manifold structure\n",
    "\n",
    "Suppose, I have a dataset which represent a manifold type of structure (e.g., $\\mathbb R^n$ dimensional ball). Now, if we choose $m$ points for this ball then the matrix representation is a $\\mathbb R^{m\\times n}$ matrix. \n",
    "\n",
    "- Is there any systematic way to removes some points from this dataset which will still preserve the manifold structure?\n",
    "\n",
    "Because after forming the matrix, we destroy the manifold representation (what I understand). And the intrinsic structure was somewhere hidden in the matrix. How to explore it with using minimum data points?\n",
    "\n",
    "### Constructing canonical manifold\n",
    "\n",
    "Can we construct manifold from our dataset? \n",
    "\n",
    "- what will be the set on which the topology needed to be defined?\n",
    "- what will be the notion of neighborhood, compactness? \n",
    "- what will be the atlas?\n",
    "\n",
    "$$\\textrm{vector space}\\stackrel{?}{\\rightarrow}\\textrm{manifold}$$"
   ]
  }
 ],
 "metadata": {
  "kernelspec": {
   "display_name": "env",
   "language": "python",
   "name": "python3"
  },
  "language_info": {
   "codemirror_mode": {
    "name": "ipython",
    "version": 3
   },
   "file_extension": ".py",
   "mimetype": "text/x-python",
   "name": "python",
   "nbconvert_exporter": "python",
   "pygments_lexer": "ipython3",
   "version": "3.10.9"
  },
  "orig_nbformat": 4
 },
 "nbformat": 4,
 "nbformat_minor": 2
}
